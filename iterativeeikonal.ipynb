{
 "cells": [
  {
   "cell_type": "markdown",
   "metadata": {},
   "source": [
    "# IterativeEikonal\n",
    "Approximate the viscosity solution of the  Eikonal equation \n",
    "$$\\begin{cases} \\Vert \\nabla_G W(g) \\Vert = 1, & g \\in G \\setminus S, \\\\\n",
    "W(g) = 0, & g \\in S \\subset G. \\end{cases}$$\n",
    "This method is based on the paper [\"A PDE Approach to Data-Driven Sub-Riemannian Geodesics in $SE(2)$\" (2015) by E. J. Bekkers, R. Duits, A. Mashtakov, and G. R. Sanguinetti](https://doi.org/10.1137/15M1018460)."
   ]
  },
  {
   "cell_type": "code",
   "execution_count": null,
   "metadata": {},
   "outputs": [],
   "source": [
    "import iterativeeikonal as eik\n",
    "import taichi as ti\n",
    "ti.init(arch=ti.gpu, debug=False)\n",
    "import numpy as np\n",
    "import scipy as sp\n",
    "import diplib as dip\n",
    "from PIL import Image\n",
    "import matplotlib.pyplot as plt\n",
    "from tqdm import tqdm\n",
    "%matplotlib widget"
   ]
  },
  {
   "cell_type": "markdown",
   "metadata": {},
   "source": [
    "## $\\mathbb{R}^2$"
   ]
  },
  {
   "cell_type": "markdown",
   "metadata": {},
   "source": [
    "### Flat space\n",
    "In fact, we will solve the Eikonal equation on some subset $G \\subset \\mathbb{R}^2$, namely $G = [-1, 1] \\times [-1, 1]$. The source set will consist of a single point: $S = \\{(0, 0)\\}$. Then we know that the viscosity solution is simply the Euclidean norm. \n",
    "\n",
    "There are numerous ways to numerically solve the Eikonal equation. We could use [Fast Marching](https://en.wikipedia.org/wiki/Fast_marching_method). This is an efficient method, but it requires a lot of work to make it compatible with non-Euclidean domains. "
   ]
  },
  {
   "cell_type": "code",
   "execution_count": null,
   "metadata": {},
   "outputs": [],
   "source": [
    "def fast_marching_R2(f):\n",
    "    N = f.shape[0]\n",
    "    f = pad_array(f, 1.)\n",
    "    dxy = 2. / N\n",
    "    point_stages = 2 * np.ones((N, N), dtype=int)\n",
    "    W = np.full(shape=(N, N), fill_value=100.)\n",
    "    point_stages = pad_array(point_stages, 0)\n",
    "    W = pad_array(W, 100.)\n",
    "    i_0, j_0 = ((N + 1) // 2, (N + 1) // 2)\n",
    "    point_stages[i_0, j_0] = 0\n",
    "    W[i_0, j_0] = 0\n",
    "    i_star, j_star = i_0, j_0\n",
    "    while np.any(point_stages != 0):\n",
    "        update_neighbours(i_star, j_star, point_stages, W, dxy, f)\n",
    "        Trial = point_stages == 1\n",
    "        index = np.argmin(np.where(Trial, W, np.inf))\n",
    "        i_star, j_star = np.unravel_index(index, W.shape)\n",
    "        point_stages[i_star, j_star] = 0\n",
    "    return unpad_array(W)\n",
    "\n",
    "def pad_array(array, fill_value):\n",
    "    padded_shape = (array.shape[0] + 2, array.shape[1] + 2)\n",
    "    padded_array = np.ones(padded_shape, dtype=array.dtype) * fill_value\n",
    "    padded_array[1:-1, 1:-1] = array\n",
    "    return padded_array\n",
    "\n",
    "def unpad_array(padded_array):\n",
    "    return padded_array[1:-1, 1:-1]\n",
    "\n",
    "def update_neighbours(i_star, j_star, point_stages, W, dxy, f):\n",
    "    neighbours = sees_point(i_star, j_star)\n",
    "    for i, j in neighbours:\n",
    "        if point_stages[i, j] != 0:\n",
    "            point_stages[i, j] = 1\n",
    "            update_W(i, j, W, dxy, f)\n",
    "\n",
    "def update_W(i, j, W, dxy, f):\n",
    "    Wx, Wy = gradient_W(i, j, W)\n",
    "    if np.abs(Wx - Wy) >= dxy:\n",
    "        W[i, j] = np.min((Wx + dxy / f[i, j], Wy + dxy / f[i, j]))\n",
    "    else:\n",
    "        W[i, j] = (Wx + Wy + np.sqrt((Wx + Wy) ** 2 - 2 * (Wx ** 2 + Wy ** 2 - (dxy / f[i, j]) ** 2))) / 2\n",
    "\n",
    "def gradient_W(i, j, W):\n",
    "    Wx = min(W[i + 1, j], W[i - 1, j])\n",
    "    Wy = min(W[i, j + 1], W[i, j - 1])\n",
    "    return Wx, Wy\n",
    "\n",
    "def sees_point(i_star, j_star):\n",
    "    return ((i_star + 1, j_star), (i_star - 1, j_star), (i_star, j_star + 1), (i_star, j_star - 1))"
   ]
  },
  {
   "cell_type": "markdown",
   "metadata": {},
   "source": [
    "We can alternatively apply an iterative method, developed by [Bekkers et al.](https://doi.org/10.1137/15M1018460)"
   ]
  },
  {
   "cell_type": "code",
   "execution_count": null,
   "metadata": {},
   "outputs": [],
   "source": [
    "def iterative_method_flat_R2(N, n):\n",
    "    \"\"\"Discretise [-1, 1] x [-1, 1] into `N` points in each direction, and apply the iterative solution method `n` times.\"\"\"\n",
    "    dxy = 2. / (N + 1)\n",
    "    eps = dxy / 4\n",
    "\n",
    "    W = get_initial_W(N)\n",
    "    boundarypoints, boundaryvalues = get_boundary_conditions(N)\n",
    "\n",
    "    eik.cleanarrays.apply_boundary_conditions(W, boundarypoints, boundaryvalues)\n",
    "\n",
    "    dx_forward, dx_backward, dy_forward, dy_backward, abs_dx, abs_dy = get_initial_derivatives(W)\n",
    "    for _ in tqdm(range(n)):\n",
    "        step_W(W, dx_forward, dx_backward, dy_forward, dy_backward, abs_dx, abs_dy, dxy, eps)\n",
    "        eik.cleanarrays.apply_boundary_conditions(W, boundarypoints, boundaryvalues)\n",
    "\n",
    "    W_np = W.to_numpy()\n",
    "    return eik.cleanarrays.unpad_array(W_np)\n",
    "\n",
    "def get_initial_W(N, initial_condition=100.):\n",
    "    W_unpadded = np.full(shape=(N, N), fill_value=initial_condition)\n",
    "    W_np = eik.cleanarrays.pad_array(W_unpadded, pad_value=initial_condition, pad_shape=1)\n",
    "    W = ti.field(dtype=ti.f32, shape=W_np.shape)\n",
    "    W.from_numpy(W_np)\n",
    "    return W\n",
    "\n",
    "def get_boundary_conditions(N):\n",
    "    i_0, j_0 = (N + 1) // 2, (N + 1) // 2\n",
    "    boundarypoints_np = np.array([[i_0, j_0]], dtype=int)\n",
    "    boundaryvalues_np = np.array([0.], dtype=float)\n",
    "    boundarypoints = ti.Vector.field(n=2, dtype=ti.i32, shape=1)\n",
    "    boundarypoints.from_numpy(boundarypoints_np)\n",
    "    boundaryvalues = ti.field(shape=1, dtype=ti.f32)\n",
    "    boundaryvalues.from_numpy(boundaryvalues_np)\n",
    "    return boundarypoints, boundaryvalues\n",
    "\n",
    "def get_initial_derivatives(W):\n",
    "    dx_forward = ti.field(dtype=ti.f32, shape=W.shape)\n",
    "    dx_backward = ti.field(dtype=ti.f32, shape=W.shape)\n",
    "    dy_forward = ti.field(dtype=ti.f32, shape=W.shape)\n",
    "    dy_backward = ti.field(dtype=ti.f32, shape=W.shape)\n",
    "    abs_dx = ti.field(dtype=ti.f32, shape=W.shape)\n",
    "    abs_dy = ti.field(dtype=ti.f32, shape=W.shape)\n",
    "    return dx_forward, dx_backward, dy_forward, dy_backward, abs_dx, abs_dy\n",
    "\n",
    "@ti.kernel\n",
    "def step_W(\n",
    "    W:ti.template(), \n",
    "    dx_forward: ti.template(), \n",
    "    dx_backward: ti.template(), \n",
    "    dy_forward: ti.template(), \n",
    "    dy_backward: ti.template(), \n",
    "    abs_dx: ti.template(), \n",
    "    abs_dy: ti.template(), \n",
    "    dxy: ti.f32, \n",
    "    eps: ti.f32\n",
    "):\n",
    "    eik.derivativesR2.abs_derivatives(W, dxy, dx_forward, dx_backward, dy_forward, dy_backward, abs_dx, abs_dy)\n",
    "    for I in ti.grouped(W):\n",
    "        W[I] += (1 - ti.math.sqrt(abs_dx[I] ** 2 + abs_dy[I] ** 2)) * eps"
   ]
  },
  {
   "cell_type": "code",
   "execution_count": null,
   "metadata": {},
   "outputs": [],
   "source": [
    "N = 51\n",
    "n = 250\n",
    "xs, ys = np.meshgrid(np.linspace(-1, 1, N), np.linspace(-1, 1, N))\n",
    "W_exact = np.sqrt(xs ** 2 + ys ** 2)\n",
    "W_iterative_big = iterative_method_flat_R2(N, n)\n",
    "f = np.ones((N, N), dtype=float)\n",
    "W_fast_marching = fast_marching_R2(f)"
   ]
  },
  {
   "cell_type": "code",
   "execution_count": null,
   "metadata": {},
   "outputs": [],
   "source": [
    "\n",
    "fig, ax = plt.subplots(nrows=1, ncols=1, figsize=(6, 5))\n",
    "fig.canvas.toolbar_visible = False\n",
    "fig.canvas.header_visible = False\n",
    "fig.canvas.footer_visible = False\n",
    "fig.canvas.resizable = False\n",
    "# contour = ax.contour(xs_small, ys_small, W_iterative_small, linestyles=\"dotted\")\n",
    "contour = ax.contour(xs, ys, W_fast_marching, linestyles=\"dotted\")\n",
    "contour = ax.contour(xs, ys, W_iterative_big, linestyles=\"dashed\")\n",
    "ax.contour(xs, ys, W_exact)\n",
    "ax.set_xlim(-1, 1)\n",
    "ax.set_ylim(-1, 1)\n",
    "ax.set_xlabel(\"x\")\n",
    "ax.set_ylabel(\"y\")\n",
    "fig.colorbar(contour, label=\"W(x, y)\");"
   ]
  },
  {
   "cell_type": "markdown",
   "metadata": {},
   "source": [
    "### Retinal image\n",
    "Computing the cost function on flat $\\mathbb{R}^2$ is not very impressive. We would like to be able to do it also when the space is not flat, for instance in the case of a retinal image. To track the vessels in a retinal image, it makes sense to assign a low cost to those areas of the image that are vessels, and a high cost to those that aren't. We must therefore first compute such a cost function.\n",
    "\n",
    "To do this, we use Frangi vesselness filtering."
   ]
  },
  {
   "cell_type": "markdown",
   "metadata": {},
   "source": [
    "#### Frangi vesselness filtering"
   ]
  },
  {
   "cell_type": "code",
   "execution_count": null,
   "metadata": {},
   "outputs": [],
   "source": [
    "ds = 8\n",
    "retinal_image = Image.open(\"E46_OD_best.tif\")\n",
    "width, height = retinal_image.size\n",
    "retinal_image_gray_ds = retinal_image.resize((width // ds, height // ds)).convert(\"L\")\n",
    "retinal_array_unnormalised = np.array(retinal_image_gray_ds).astype(np.float64)\n",
    "retinal_array = retinal_array_unnormalised / retinal_array_unnormalised.max()"
   ]
  },
  {
   "cell_type": "markdown",
   "metadata": {},
   "source": [
    "Frangi vesselness filtering uses Gaussian derivatives. It turns out that the standard function for computing Gaussian derivatives in SciPy - `scipy.ndimage.gaussian_filter()` - is pretty inaccurate, especially at small scales (the derivative is much sharper). We therefore make use of the Gaussian derivatives defined in another package: DIPlib. "
   ]
  },
  {
   "cell_type": "code",
   "execution_count": null,
   "metadata": {},
   "outputs": [],
   "source": [
    "Lxx_sp = sp.ndimage.gaussian_filter(-retinal_array, sigma=0.25, order=(0, 2))\n",
    "print(f\"Lxx[SciPy] in [{Lxx_sp.min()}, {Lxx_sp.max()}]\")\n",
    "Lxx_sp_shift = Lxx_sp - Lxx_sp.min()\n",
    "Lxx_sp = Lxx_sp_shift / Lxx_sp_shift.max()\n",
    "Lxx_dip = np.array(dip.Gauss(-retinal_array, (0.25, 0.25), (2, 0)))\n",
    "print(f\"Lxx[DIPlib] in [{Lxx_dip.min()}, {Lxx_dip.max()}]\")\n",
    "Lxx_dip_shift = Lxx_dip - Lxx_dip.min()\n",
    "Lxx_dip = Lxx_dip_shift / Lxx_dip_shift.max()"
   ]
  },
  {
   "cell_type": "code",
   "execution_count": null,
   "metadata": {},
   "outputs": [],
   "source": [
    "_, fig = eik.cleanarrays.view_image_arrays_side_by_side((Lxx_sp, Lxx_dip))"
   ]
  },
  {
   "cell_type": "code",
   "execution_count": null,
   "metadata": {},
   "outputs": [],
   "source": [
    "scales = np.array((0.25, 0.5, 1, 2, 3, 4), dtype=float) # / ds\n",
    "vesselness = eik.costfunctions.multiscale_frangi_filter_R2(-retinal_array, 0.3, 0.3, scales)\n",
    "mask = (retinal_array > 0) # Remove boundary\n",
    "vesselness *= sp.ndimage.binary_erosion(mask, iterations=4)\n",
    "print(f\"Vesselness in [{vesselness.min()}, {vesselness.max()}]\")\n",
    "vesselness /= vesselness.max()"
   ]
  },
  {
   "cell_type": "code",
   "execution_count": null,
   "metadata": {},
   "outputs": [],
   "source": [
    "image_vesselness = eik.cleanarrays.convert_array_to_image(vesselness)\n",
    "fig, ax = plt.subplots()\n",
    "ax.imshow(image_vesselness, cmap=\"gray\", origin=\"lower\")\n",
    "ax.scatter(278, 217, label=\"Source\")\n",
    "ax.scatter(118, 211, label=\"Target\") # Coordinates are confusing: come up with 1 good set.\n",
    "ax.legend();"
   ]
  },
  {
   "cell_type": "markdown",
   "metadata": {},
   "source": [
    "Compared to the result produced by the Frangi filter in the Mathematica notebook \"code A - Vesselness in SE(2).nb\", this vesselness score is much sharper."
   ]
  },
  {
   "cell_type": "markdown",
   "metadata": {},
   "source": [
    "#### Cost function\n",
    "Given the vesselness function, we compute the cost function as\n",
    "$$\\mathrm{cost}_{\\lambda, p}(x, y) = \\frac{1}{1 + \\lambda * \\vert \\mathrm{vesselness} \\vert^p}$$"
   ]
  },
  {
   "cell_type": "code",
   "execution_count": null,
   "metadata": {},
   "outputs": [],
   "source": [
    "cost = eik.costfunctions.cost_function_R2(vesselness, 1000, 5)\n",
    "_, fig = eik.cleanarrays.view_image_array(1 / cost) # Should look like vesselness\n",
    "# cost /= cost.min()"
   ]
  },
  {
   "cell_type": "markdown",
   "metadata": {},
   "source": [
    "#### Distance map\n",
    "We are now able to compute the distance map, which is the viscosity solution of the Eikonal equation\n",
    "$$\\begin{cases} \\Vert \\nabla_{\\mathrm{cost}} W(x, y) \\Vert = 1, & (x, y) \\in \\mathbb{R}^2 \\setminus \\{(x_0, y_0)\\}, \\\\\n",
    "W(x, y) = 0, & (x, y) = (x_0, y_0), \\end{cases}$$\n",
    "where $\\nabla_C$ is a datadriven derivative:\n",
    "$$\\Vert \\nabla_{\\mathrm{cost}} W(x, y) \\Vert = \\sqrt{\\mathrm{cost}_{\\lambda, p}^{-2}(x, y) (\\vert \\partial_x W(x, y) \\vert^2 + \\vert \\partial_y W(x, y) \\vert^2)}.$$"
   ]
  },
  {
   "cell_type": "code",
   "execution_count": null,
   "metadata": {},
   "outputs": [],
   "source": [
    "def iterative_method_retinal_R2(cost_np, source_point, target_point):\n",
    "    \"\"\"Discretise [-1, 1] x [-1, 1] into `N` points in each direction, and apply the iterative solution method `n` times.\"\"\"\n",
    "    N = cost_np.shape[0]\n",
    "    # n = 200000 # Maybe select n based on cost, or stop when W does not change much.\n",
    "    dxy = 2. / (N + 1) # dxy is meaningless: how big is 1 pixel?\n",
    "    eps = dxy / 500 # 500 # How to pick a good time step? It must depend on the data.\n",
    "\n",
    "    cost = get_padded_cost(cost_np)\n",
    "    W = get_initial_W(N)\n",
    "    boundarypoints, boundaryvalues = get_boundary_conditions(source_point)\n",
    "\n",
    "    eik.cleanarrays.apply_boundary_conditions(W, boundarypoints, boundaryvalues)\n",
    "\n",
    "    dx_forward, dx_backward, dy_forward, dy_backward, abs_dx, abs_dy, dW_dt = get_initial_derivatives(W)\n",
    "    dW_dt_target = 100.\n",
    "    tol = 1e-4 # For some reason, it can never go below about 2.2e-4\n",
    "    n = 0\n",
    "    n_max = 3e4\n",
    "    while (np.abs(dW_dt_target) > tol) and (n <= n_max):\n",
    "    # for _ in tqdm(range(30000)):\n",
    "        dW_dt_target = step_W(W, cost, dx_forward, dx_backward, dy_forward, dy_backward, abs_dx, abs_dy, dxy, eps, dW_dt, target_point[0] + 1, target_point[1] + 1)\n",
    "        eik.cleanarrays.apply_boundary_conditions(W, boundarypoints, boundaryvalues)\n",
    "        n += 1\n",
    "    print(f\"Converged after {n - 1} steps!\")\n",
    "    print(dW_dt_target)\n",
    "    \n",
    "    W_np = W.to_numpy()\n",
    "    return eik.cleanarrays.unpad_array(W_np)\n",
    "\n",
    "def get_padded_cost(cost_unpadded):\n",
    "    cost_np = eik.cleanarrays.pad_array(cost_unpadded, pad_value=1., pad_shape=1)\n",
    "    cost = ti.field(dtype=ti.f32, shape=cost_np.shape)\n",
    "    cost.from_numpy(cost_np)\n",
    "    return cost\n",
    "\n",
    "def get_initial_W(N, initial_condition=100.):\n",
    "    W_unpadded = np.full(shape=(N, N), fill_value=initial_condition)\n",
    "    W_np = eik.cleanarrays.pad_array(W_unpadded, pad_value=initial_condition, pad_shape=1)\n",
    "    W = ti.field(dtype=ti.f32, shape=W_np.shape)\n",
    "    W.from_numpy(W_np)\n",
    "    return W\n",
    "\n",
    "def get_boundary_conditions(source_point):\n",
    "    i_0, j_0 = source_point\n",
    "    boundarypoints_np = np.array([[i_0, j_0]], dtype=int)\n",
    "    boundaryvalues_np = np.array([0.], dtype=float)\n",
    "    boundarypoints = ti.Vector.field(n=2, dtype=ti.i32, shape=1)\n",
    "    boundarypoints.from_numpy(boundarypoints_np)\n",
    "    boundaryvalues = ti.field(shape=1, dtype=ti.f32)\n",
    "    boundaryvalues.from_numpy(boundaryvalues_np)\n",
    "    return boundarypoints, boundaryvalues\n",
    "\n",
    "def get_initial_derivatives(W):\n",
    "    dx_forward = ti.field(dtype=ti.f32, shape=W.shape)\n",
    "    dx_backward = ti.field(dtype=ti.f32, shape=W.shape)\n",
    "    dy_forward = ti.field(dtype=ti.f32, shape=W.shape)\n",
    "    dy_backward = ti.field(dtype=ti.f32, shape=W.shape)\n",
    "    abs_dx = ti.field(dtype=ti.f32, shape=W.shape)\n",
    "    abs_dy = ti.field(dtype=ti.f32, shape=W.shape)\n",
    "    dW_dt = ti.field(dtype=ti.f32, shape=W.shape)\n",
    "    return dx_forward, dx_backward, dy_forward, dy_backward, abs_dx, abs_dy, dW_dt\n",
    "\n",
    "@ti.kernel\n",
    "def step_W(\n",
    "    W:ti.template(), \n",
    "    cost:ti.template(),\n",
    "    dx_forward: ti.template(), \n",
    "    dx_backward: ti.template(), \n",
    "    dy_forward: ti.template(), \n",
    "    dy_backward: ti.template(), \n",
    "    abs_dx: ti.template(), \n",
    "    abs_dy: ti.template(), \n",
    "    dxy: ti.f32, \n",
    "    eps: ti.f32,\n",
    "    dW_dt: ti.template(),\n",
    "    i_target: ti.i32,\n",
    "    j_target: ti.i32\n",
    ") -> ti.f32:\n",
    "    eik.derivativesR2.abs_derivatives(W, dxy, dx_forward, dx_backward, dy_forward, dy_backward, abs_dx, abs_dy)\n",
    "    for I in ti.grouped(W):\n",
    "        # It seems like TaiChi does not allow negative exponents.\n",
    "        dW_dt[I] = (1 - (ti.math.sqrt((abs_dx[I] ** 2 + abs_dy[I] ** 2)) / cost[I]))\n",
    "        W[I] += dW_dt[I] * eps\n",
    "    return dW_dt[i_target, j_target] # adding this in makes it a bit slower."
   ]
  },
  {
   "cell_type": "markdown",
   "metadata": {},
   "source": [
    "The quality of the approximation spreads out from the source point. Hence, if we are interested only in the distance map to points that are not that far away (in terms of the true distance map), then we do not have to perform as many iterations."
   ]
  },
  {
   "cell_type": "code",
   "execution_count": null,
   "metadata": {},
   "outputs": [],
   "source": [
    "source_point = (217, 278)\n",
    "target_point = (211, 118)\n",
    "W_iterative = iterative_method_retinal_R2(cost, source_point, target_point) # , 30000) # For distance map on entire image, use 200000\n",
    "xs_retinal, ys_retinal = np.meshgrid(np.linspace(-1, 1, cost.shape[0]), np.linspace(-1, 1, cost.shape[1]))\n",
    "# W_fast_marching = fast_marching_R2(cost) # Too slow...\n",
    "W_iterative[source_point[0]-3:source_point[0]+2, source_point[1]-3:source_point[1]+2]"
   ]
  },
  {
   "cell_type": "code",
   "execution_count": null,
   "metadata": {},
   "outputs": [],
   "source": [
    "fig, ax = plt.subplots(nrows=1, ncols=1, figsize=(6, 5))\n",
    "fig.canvas.toolbar_visible = False\n",
    "fig.canvas.header_visible = False\n",
    "fig.canvas.footer_visible = False\n",
    "fig.canvas.resizable = False\n",
    "ax.imshow(vesselness, cmap=\"gray\", extent=[-1, 1, -1, 1], origin=\"lower\")\n",
    "contour = ax.contour(xs_retinal, ys_retinal, W_iterative, levels=np.linspace(0., .15, 5)) # Doesn't look great...\n",
    "ax.scatter(xs_retinal[source_point[0], source_point[1]], ys_retinal[source_point[0], source_point[1]], label=\"Source\")\n",
    "ax.scatter(xs_retinal[target_point[0], target_point[1]], ys_retinal[target_point[0], target_point[1]], label=\"Target\")\n",
    "ax.set_xlim(-1, 1)\n",
    "ax.set_ylim(-1, 1)\n",
    "ax.set_xlabel(\"$x$\")\n",
    "ax.set_ylabel(\"$y$\")\n",
    "ax.legend()\n",
    "fig.colorbar(contour, label=\"$W(x, y)$\");"
   ]
  },
  {
   "cell_type": "markdown",
   "metadata": {},
   "source": [
    "### Geodesic tracking\n",
    "Now that we have the distance map (from a certain source point), we are able to compute the geodesics between the source point and any other point $(x^*, y^*)$ using backtracking:\n",
    "$$\\begin{dcases} \\dot{\\gamma}(t) = -\\left(\\frac{\\partial_x W(\\gamma(t))}{\\mathrm{cost}_{\\lambda, p}^2(\\gamma(t))}, \\frac{\\partial_y W(\\gamma(t))}{\\mathrm{cost}_{\\lambda, p}^2(\\gamma(t))}\\right), & t > 0, \\\\\n",
    "\\gamma(0) = (x^*, y^*). & \\end{dcases}$$"
   ]
  },
  {
   "cell_type": "markdown",
   "metadata": {},
   "source": [
    "target = (211, 118) {-> (118, 211) cuz coordinates}"
   ]
  },
  {
   "cell_type": "markdown",
   "metadata": {},
   "source": []
  }
 ],
 "metadata": {
  "kernelspec": {
   "display_name": "Python 3",
   "language": "python",
   "name": "python3"
  },
  "language_info": {
   "codemirror_mode": {
    "name": "ipython",
    "version": 3
   },
   "file_extension": ".py",
   "mimetype": "text/x-python",
   "name": "python",
   "nbconvert_exporter": "python",
   "pygments_lexer": "ipython3",
   "version": "3.10.13"
  }
 },
 "nbformat": 4,
 "nbformat_minor": 2
}
