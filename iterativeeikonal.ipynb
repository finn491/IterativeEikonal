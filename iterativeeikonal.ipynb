{
 "cells": [
  {
   "cell_type": "markdown",
   "metadata": {},
   "source": [
    "# IterativeEikonal\n",
    "Approximate the viscosity solution of the  Eikonal equation \n",
    "$$\\begin{cases} \\Vert \\nabla_G W(g) \\Vert = 1, & g \\in G, \\\\\n",
    "W(g) = 0, & g \\in S \\subset G. \\end{cases}$$"
   ]
  },
  {
   "cell_type": "code",
   "execution_count": null,
   "metadata": {},
   "outputs": [],
   "source": [
    "import iterativeeikonal as eik\n",
    "import taichi as ti\n",
    "ti.init(arch=ti.gpu, debug=False)\n",
    "import numpy as np\n",
    "import scipy as sp\n",
    "import diplib as dip\n",
    "from PIL import Image\n",
    "import matplotlib.pyplot as plt\n",
    "%matplotlib widget"
   ]
  },
  {
   "cell_type": "markdown",
   "metadata": {},
   "source": [
    "## $\\mathbb{R}^2$"
   ]
  },
  {
   "cell_type": "markdown",
   "metadata": {},
   "source": [
    "### Flat space\n",
    "In fact, we will solve the Eikonal equation on some subset $G \\subset \\mathbb{R}^2$, namely $G = [-1, 1] \\times [-1, 1]$. The source set will consist of a single point: $S = \\{(0, 0)\\}$. Then we know that the viscosity solution is simply the Euclidean norm."
   ]
  },
  {
   "cell_type": "code",
   "execution_count": null,
   "metadata": {},
   "outputs": [],
   "source": [
    "def iterative_method_flat_R2(N, n):\n",
    "    \"\"\"Discretise [-1, 1] x [-1, 1] into `N` points in each direction, and apply the iterative solution method `n` times.\"\"\"\n",
    "    dxy = 2. / (N + 1)\n",
    "    eps = dxy / 4\n",
    "\n",
    "    W = get_initial_W(N)\n",
    "    boundarypoints, boundaryvalues = get_boundary_conditions(N)\n",
    "\n",
    "    eik.cleanarrays.apply_boundary_conditions(W, boundarypoints, boundaryvalues)\n",
    "\n",
    "    dx_forward, dx_backward, dy_forward, dy_backward, abs_dx, abs_dy = get_initial_derivatives(W)\n",
    "    for _ in range(n):\n",
    "        step_W(W, dx_forward, dx_backward, dy_forward, dy_backward, abs_dx, abs_dy, dxy, eps)\n",
    "        eik.cleanarrays.apply_boundary_conditions(W, boundarypoints, boundaryvalues)\n",
    "\n",
    "    W_np = W.to_numpy()\n",
    "    return eik.cleanarrays.unpad_array(W_np)\n",
    "\n",
    "def get_initial_W(N):\n",
    "    W_unpadded = np.full(shape=(N, N), fill_value=100.)\n",
    "    W_np = eik.cleanarrays.pad_array(W_unpadded, pad_value=100., pad_shape=1)\n",
    "    W = ti.field(dtype=ti.f32, shape=W_np.shape)\n",
    "    W.from_numpy(W_np)\n",
    "    return W\n",
    "\n",
    "def get_boundary_conditions(N):\n",
    "    i_0, j_0 = (N + 1) // 2, (N + 1) // 2\n",
    "    boundarypoints_np = np.array([[i_0, j_0]], dtype=int)\n",
    "    boundaryvalues_np = np.array([0.], dtype=float)\n",
    "    boundarypoints = ti.Vector.field(n=2, dtype=ti.i32, shape=1)\n",
    "    boundarypoints.from_numpy(boundarypoints_np)\n",
    "    boundaryvalues = ti.field(shape=1, dtype=ti.f32)\n",
    "    boundaryvalues.from_numpy(boundaryvalues_np)\n",
    "    return boundarypoints, boundaryvalues\n",
    "\n",
    "def get_initial_derivatives(W):\n",
    "    dx_forward = ti.field(dtype=ti.f32, shape=W.shape)\n",
    "    dx_backward = ti.field(dtype=ti.f32, shape=W.shape)\n",
    "    dy_forward = ti.field(dtype=ti.f32, shape=W.shape)\n",
    "    dy_backward = ti.field(dtype=ti.f32, shape=W.shape)\n",
    "    abs_dx = ti.field(dtype=ti.f32, shape=W.shape)\n",
    "    abs_dy = ti.field(dtype=ti.f32, shape=W.shape)\n",
    "    return dx_forward, dx_backward, dy_forward, dy_backward, abs_dx, abs_dy\n",
    "\n",
    "@ti.kernel\n",
    "def step_W(\n",
    "    W:ti.template(), \n",
    "    dx_forward: ti.template(), \n",
    "    dx_backward: ti.template(), \n",
    "    dy_forward: ti.template(), \n",
    "    dy_backward: ti.template(), \n",
    "    abs_dx: ti.template(), \n",
    "    abs_dy: ti.template(), \n",
    "    dxy: ti.f32, \n",
    "    eps: ti.f32\n",
    "):\n",
    "    eik.derivativesR2.abs_derivatives(W, dxy, dx_forward, dx_backward, dy_forward, dy_backward, abs_dx, abs_dy)\n",
    "    for I in ti.grouped(W):\n",
    "        W[I] += (1 - ti.math.sqrt(abs_dx[I] ** 2 + abs_dy[I] ** 2)) * eps"
   ]
  },
  {
   "cell_type": "code",
   "execution_count": null,
   "metadata": {},
   "outputs": [],
   "source": [
    "N_small = 11\n",
    "n_small = 50\n",
    "xs_small, ys_small = np.meshgrid(np.linspace(-1, 1, N_small), np.linspace(-1, 1, N_small))\n",
    "W_iterative_small = iterative_method_flat_R2(N_small, n_small)\n",
    "\n",
    "N_big = 51\n",
    "n_big = 250\n",
    "xs_big, ys_big = np.meshgrid(np.linspace(-1, 1, N_big), np.linspace(-1, 1, N_big))\n",
    "W_exact = np.sqrt(xs_big ** 2 + ys_big ** 2)\n",
    "W_iterative_big = iterative_method_flat_R2(N_big, n_big)"
   ]
  },
  {
   "cell_type": "code",
   "execution_count": null,
   "metadata": {},
   "outputs": [],
   "source": [
    "\n",
    "fig, ax = plt.subplots(nrows=1, ncols=1, figsize=(6, 5))\n",
    "fig.canvas.toolbar_visible = False\n",
    "fig.canvas.header_visible = False\n",
    "fig.canvas.footer_visible = False\n",
    "fig.canvas.resizable = False\n",
    "contour = ax.contour(xs_small, ys_small, W_iterative_small, linestyles=\"dotted\")\n",
    "contour = ax.contour(xs_big, ys_big, W_iterative_big, linestyles=\"dashed\")\n",
    "ax.contour(xs_big, ys_big, W_exact)\n",
    "ax.set_xlim(-1, 1)\n",
    "ax.set_ylim(-1, 1)\n",
    "ax.set_xlabel(\"x\")\n",
    "ax.set_ylabel(\"y\")\n",
    "fig.colorbar(contour, label=\"W(x, y)\");"
   ]
  },
  {
   "cell_type": "markdown",
   "metadata": {},
   "source": [
    "### Retinal image\n",
    "Computing the cost function on flat $\\mathbb{R}^2$ is not very impressive. We would like to be able to do it also when the space is not flat, for instance in the case of a retinal image. To track the vessels in a retinal image, it makes sense to assign a low cost to those areas of the image that are vessels, and a high cost to those that aren't. We must therefore first compute such a cost function.\n",
    "\n",
    "To do this, we use Frangi vesselness filtering."
   ]
  },
  {
   "cell_type": "markdown",
   "metadata": {},
   "source": [
    "#### Frangi vesselness filtering"
   ]
  },
  {
   "cell_type": "code",
   "execution_count": null,
   "metadata": {},
   "outputs": [],
   "source": [
    "ds = 8\n",
    "retinal_image = Image.open(\"E46_OD_best.tif\")\n",
    "width, height = retinal_image.size\n",
    "retinal_image_gray_ds = retinal_image.resize((width // ds, height // ds)).convert(\"L\")\n",
    "retinal_array_unnormalised = np.array(retinal_image_gray_ds).astype(np.float64)\n",
    "retinal_array = retinal_array_unnormalised / retinal_array_unnormalised.max()"
   ]
  },
  {
   "cell_type": "markdown",
   "metadata": {},
   "source": [
    "Frangi vesselness filtering uses Gaussian derivatives. It turns out that the standard function for computing Gaussian derivatives in SciPy - `scipy.ndimage.gaussian_filter()` - is pretty inaccurate, especially at small scales (the derivative is much sharper). We therefore make use of the Gaussian derivatives defined in another package: DIPlib. "
   ]
  },
  {
   "cell_type": "code",
   "execution_count": null,
   "metadata": {},
   "outputs": [],
   "source": [
    "Lxx_sp = sp.ndimage.gaussian_filter(-retinal_array, sigma=0.25, order=(0, 2))\n",
    "print(f\"Lxx[SciPy] in [{Lxx_sp.min()}, {Lxx_sp.max()}]\")\n",
    "Lxx_sp_shift = Lxx_sp - Lxx_sp.min()\n",
    "Lxx_sp = Lxx_sp_shift / Lxx_sp_shift.max()\n",
    "Lxx_dip = np.array(dip.Gauss(-retinal_array, (0.25, 0.25), (2, 0)))\n",
    "print(f\"Lxx[DIPlib] in [{Lxx_dip.min()}, {Lxx_dip.max()}]\")\n",
    "Lxx_dip_shift = Lxx_dip - Lxx_dip.min()\n",
    "Lxx_dip = Lxx_dip_shift / Lxx_dip_shift.max()"
   ]
  },
  {
   "cell_type": "code",
   "execution_count": null,
   "metadata": {},
   "outputs": [],
   "source": [
    "_, fig = eik.cleanarrays.view_image_arrays_side_by_side((Lxx_sp, Lxx_dip))"
   ]
  },
  {
   "cell_type": "code",
   "execution_count": null,
   "metadata": {},
   "outputs": [],
   "source": [
    "scales = np.array((0.25, 0.5, 1, 2, 3, 4), dtype=float) # / ds\n",
    "vesselness = eik.costfunctions.multiscale_frangi_filter_R2(-retinal_array, 0.3, 0.3, scales)\n",
    "mask = (retinal_array > 0) # Remove boundary\n",
    "vesselness *= sp.ndimage.binary_erosion(mask, iterations=4)\n",
    "print(f\"Vesselness in [{vesselness.min()}, {vesselness.max()}]\")\n",
    "vesselness /= vesselness.max()"
   ]
  },
  {
   "cell_type": "code",
   "execution_count": null,
   "metadata": {},
   "outputs": [],
   "source": [
    "image_vesselness, fig = eik.cleanarrays.view_image_array(vesselness)"
   ]
  },
  {
   "cell_type": "markdown",
   "metadata": {},
   "source": [
    "Compared to the result produced by the Frangi filter in the Mathematica notebook \"code A - Vesselness in SE(2).nb\", this vesselness score is much sharper."
   ]
  },
  {
   "cell_type": "markdown",
   "metadata": {},
   "source": [
    "#### Cost function\n",
    "Given the vesselness function, we compute the cost function as\n",
    "$$\\mathrm{cost}_{\\lambda, p}(x, y) = \\frac{1}{1 + \\lambda * \\vert \\mathrm{vesselness} \\vert^p}$$"
   ]
  },
  {
   "cell_type": "code",
   "execution_count": null,
   "metadata": {},
   "outputs": [],
   "source": [
    "cost = eik.costfunctions.cost_function(vesselness, 1000, 3)\n",
    "_, fig = eik.cleanarrays.view_image_array(cost)"
   ]
  },
  {
   "cell_type": "code",
   "execution_count": null,
   "metadata": {},
   "outputs": [],
   "source": []
  }
 ],
 "metadata": {
  "kernelspec": {
   "display_name": "Python 3",
   "language": "python",
   "name": "python3"
  },
  "language_info": {
   "codemirror_mode": {
    "name": "ipython",
    "version": 3
   },
   "file_extension": ".py",
   "mimetype": "text/x-python",
   "name": "python",
   "nbconvert_exporter": "python",
   "pygments_lexer": "ipython3",
   "version": "3.10.13"
  }
 },
 "nbformat": 4,
 "nbformat_minor": 2
}
